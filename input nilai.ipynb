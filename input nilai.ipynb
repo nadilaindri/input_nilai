{
 "cells": [
  {
   "cell_type": "code",
   "execution_count": 7,
   "metadata": {},
   "outputs": [
    {
     "name": "stdout",
     "output_type": "stream",
     "text": [
      "Laporan Nilai Akhir Semester SMK Wikrama Bogor\n",
      "-------Data Diri---\n",
      "NIS: 3\n",
      "Nama: g\n",
      "Jenis Kelamin: g\n",
      "Rombel: g\n",
      "Rayon: g\n",
      "------Nilai------\n",
      "B.Indonesia: 80\n",
      "Matematika: 80\n",
      "B.Inggris: 80\n",
      "Rata-rata nilai :  80.0\n",
      "kriteria:  Lulus\n"
     ]
    }
   ],
   "source": [
    "print(\"Laporan Nilai Akhir Semester SMK Wikrama Bogor\")\n",
    "print(\"-------Data Diri---\")\n",
    "nis = int(input(\"NIS: \"))\n",
    "nama = str(input(\"Nama: \"))\n",
    "jk = str(input(\"Jenis Kelamin: \"))\n",
    "rombel = str(input(\"Rombel: \"))\n",
    "rayon = str(input(\"Rayon: \"))\n",
    "print(\"------Nilai------\")\n",
    "indo = int(input(\"B.Indonesia: \"))\n",
    "mtk = int(input(\"Matematika: \"))\n",
    "ingg = int(input(\"B.Inggris: \"))\n",
    "rata = (indo +mtk+ingg)/3\n",
    "print(\"Rata-rata nilai : \",rata)\n",
    "if rata >=75:\n",
    "    keterangan = (\"Lulus\")\n",
    "else:\n",
    "    keterangan(\"Belum Lulus\")\n",
    "print(\"kriteria: \",keterangan)"
   ]
  },
  {
   "cell_type": "code",
   "execution_count": null,
   "metadata": {},
   "outputs": [],
   "source": []
  }
 ],
 "metadata": {
  "kernelspec": {
   "display_name": "Python 3",
   "language": "python",
   "name": "python3"
  },
  "language_info": {
   "codemirror_mode": {
    "name": "ipython",
    "version": 3
   },
   "file_extension": ".py",
   "mimetype": "text/x-python",
   "name": "python",
   "nbconvert_exporter": "python",
   "pygments_lexer": "ipython3",
   "version": "3.7.3"
  }
 },
 "nbformat": 4,
 "nbformat_minor": 2
}
